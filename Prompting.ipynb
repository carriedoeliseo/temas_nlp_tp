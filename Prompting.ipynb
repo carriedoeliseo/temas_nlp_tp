{
 "cells": [
  {
   "cell_type": "markdown",
   "id": "86d29d71",
   "metadata": {},
   "source": [
    "# Prompting\n",
    "\n",
    "En este notebook vemos la evolución del IAA con distintas técnicas de Prompting.\n",
    "\n",
    "Vamos a usar ChatGPT, el API-KEY se puede configurar en [Platform](https://platform.openai.com/settings/organization/api-keys)."
   ]
  },
  {
   "cell_type": "code",
   "execution_count": null,
   "id": "8c4f1249",
   "metadata": {},
   "outputs": [],
   "source": [
    "from openai import OpenAI\n",
    "import krippendorff\n",
    "import time\n",
    "import os\n",
    "import polars as pl\n",
    "\n",
    "from dotenv import load_dotenv\n",
    "load_dotenv()\n",
    "\n",
    "import matplotlib.pyplot as plt\n",
    "import pandas as pd\n",
    "\n",
    "from IAA import (\n",
    "    matriz_kripp, \n",
    "    calcula_alpha_kripp\n",
    ")"
   ]
  },
  {
   "cell_type": "markdown",
   "id": "10677370",
   "metadata": {},
   "source": [
    "### Cargamos los Dataset"
   ]
  },
  {
   "cell_type": "code",
   "execution_count": 245,
   "id": "1febd7f0",
   "metadata": {},
   "outputs": [],
   "source": [
    "dataset1 = pd.read_excel('data/dataset_1.xlsx', sheet_name='Dataset_1_Compartidos')\n",
    "dataset2 = pd.read_excel('data/dataset_2.xlsx', sheet_name='Dataset_2_Compartidos')\n",
    "dataset3 = pd.read_excel('data/dataset_3.xlsx', sheet_name='Sheet1')"
   ]
  },
  {
   "cell_type": "code",
   "execution_count": 246,
   "id": "7282912d",
   "metadata": {},
   "outputs": [],
   "source": [
    "X = dataset3[['nroV', 'idF', 'País', 'Día', 'Mes', 'Año', 'Medio', 'Título','Comentario']]\n",
    "Y = dataset3['Calificación']"
   ]
  },
  {
   "cell_type": "code",
   "execution_count": 247,
   "id": "5a543a1c",
   "metadata": {},
   "outputs": [
    {
     "data": {
      "text/plain": [
       "((276,), (42,))"
      ]
     },
     "execution_count": 247,
     "metadata": {},
     "output_type": "execute_result"
    }
   ],
   "source": [
    "from sklearn.model_selection import train_test_split\n",
    "\n",
    "X_train_vali, X_held_out, Y_train_vali, Y_held_out = train_test_split(X, Y, test_size=0.11, random_state=10)\n",
    "\n",
    "X_train, X_vali, Y_train, Y_vali = train_test_split(X_train_vali, Y_train_vali, test_size=0.13, random_state=10)\n",
    "\n",
    "Y_train.shape, Y_vali.shape"
   ]
  },
  {
   "cell_type": "markdown",
   "id": "194d7e34",
   "metadata": {},
   "source": [
    "## One shot learning"
   ]
  },
  {
   "cell_type": "code",
   "execution_count": 251,
   "id": "aff99c17",
   "metadata": {},
   "outputs": [
    {
     "name": "stdout",
     "output_type": "stream",
     "text": [
      "> Id: 188 | Año: 2022 | Título: 'Benet se reúne con Putin en Moscú para mediar en la guerra de Ucrania' | Comentario: 'No mas OTAN, no mas apoyo de la OTAN al genocidio Israeli sobre el pueblo palestino....'\n",
      "> Id: 149 | Año: 2022 | Título: '“No conocés Helueni, no conocés el Once”. El local de comida judía donde compraba Tato Bores y Molda' | Comentario: 'Habla de comida judía pero vienen de siria'\n",
      "> Id: 129 | Año: 2021 | Título: 'Opinión | Cosas que hay que saber antes de juzgar a Israel' | Comentario: 'Según la señora que escribe los judios son unos santos o una carmelitas descalzas. Es una falta de respeto a la inteligencia este artículo. Israel es complice de hamas como lo fue del estado islamico al cual condeno muy poco.'\n",
      "> Id: 250 | Año: 2021 | Título: 'Travesía histórica: cómo 23 judíos expulsados de Brasil ayudaron a fundar Nueva York' | Comentario: 'nadie los quiere. los rajon de todos lados. porque sera?'\n",
      "> Id: 73 | Año: 2024 | Título: 'Docente de curso postergado en Udelar: “Quieren insultarme; no me insultan, soy sionista”' | Comentario: 'Un sionista, como la sra que escribe acá, tiene siempre derecho a decir que Israel puede invadir, matar, torturar, defecar sobre cadáveres, todo eso documentado por la ONU y los otros son siempre terroristas. Si mueren 20 veces mas palestinos, 35 mil tampoco significa que Israel esté mal. Todo el que diga algo en contra es Antisemita'\n",
      "> Id: 341 | Año: 2024 | Título: 'El presidente de Portugal pide revisión constitucional para conceder nacionalidad a sefarditas' | Comentario: 'Este pendejo y desocupado no tendrá otro tema de que hablar?'\n",
      "> Id: 221 | Año: 2023 | Título: 'Suben a ocho los palestinos muertos tras inédito ataque en 20 años de Israel en Cisjordania' | Comentario: 'Sionistas genocidas'\n",
      "> Id: 265 | Año: 2023 | Título: 'Muere a los 102 años exguardia nazi condenado por complicidad en miles de crímenes' | Comentario: 'Q.E.P.D, Dios lo tenga en la gloria'\n",
      "> Id: 209 | Año: 2022 | Título: 'Al menos cinco niños palestinos y un adultos murieron por impacto de proyectil en Gaza' | Comentario: 'SE TERMINO LA FARSA DEL SIONISTA SELENSKYAmnistía Internacional Condena que las tácticas de lucha de Ucrania que ponen en peligro a los civilesLa ONG dice que Ucrania estableció bases militares tanques y explosivosen áreas residenciales, incluidas escuelas y hospitales, cuando había alternativas viables.por Dave De Camp Publicado en4 de agosto de 2022CategoríasNoticiasEtiquetasUcraniaAmnistía Internacional dijo el jueves que Ucrania está poniendo en peligro a los civiles en sus tácticas de guerra al establecer bases y lanzar ataques desde áreas residenciales, incluidas escuelas y hospitales.“Hemos documentado un patrón en el que las fuerzas ucranianas ponen en peligro a los civiles y violan las leyes de la guerra cuando operan en áreas pobladas”, dijo Agnès Callamard, secretaria general de Amnistía. “Estar en una posición defensiva no exime al ejército ucraniano de respetar el derecho internacional humanitario”.Amnistía dijo que la ma'\n",
      "> Id: 305 | Año: 2023 | Título: 'Netanyahu asegura que Israel está \"pagando un alto precio por la guerra\"' | Comentario: 'Los asesinos judíos siempre se auto consideran víctimas. Son genocidas desde que irrumpieron e invadieron Cisjordania el año 48. Siempre se lamentan, Siempre lloran.'\n",
      "> Id: 296 | Año: 2021 | Título: 'Fleur Hassan-Nahoum, vicealcaldesa de Jerusalén: “Esto no es un conflicto de territorio, esto es un' | Comentario: 'El Gobierno Judio no aprendió nada de la tragedia del holocausto.Emplea métodos de exterminio peores: instala enclaves de pobladores en territorio palestino con guardias armados, construyo un muro de hormigón de  9 mts de altura a lo largo de Palestina; elimina opositores con Misiles de F16 en plena calle no importando quienes transiten en ese momento o demoliendo casas de los padres de árabes suicidas o ignorando decenas de resoluciones de la ONU que ordenaban terminar con los asentamientos.Esto nada tiene que ver con antisemismo sino con humanidad y respeto al pueblo palestino que cuando se hizo la partición del territorio se establecieron dos estados definidos geográficamente y para que convivan pacificamente.'\n",
      "> Id: 190 | Año: 2023 | Título: 'NYT: Francia ve una creciente ola de antisemitismo. Un edificio en ParÃ­s pintado con estrellas de D' | Comentario: 'los mismos judios no sionistas, estan en contra de la creacion de israel, aqui los judios salen a la calle con camisetas que dicen \" not in our name , para decir que los judios verdaderos no apoyan la masacre sionista en palestina, pero por los sionistas pagan todos los judios que quieren la pa.z'\n",
      "> Id: 294 | Año: 2024 | Título: 'Denuncian el hallazgo de 30 cuerpos maniatados y vendados en Gaza: Israel niega ser el responsable' | Comentario: 'Sionistas genocidas y cobardes'\n",
      "> Id: 308 | Año: 2024 | Título: 'Presidenta de Honduras pidió un alto al fuego en Gaza y el reconocimiento del estado palestino' | Comentario: 'Alguien pesca a los insignificantes países centroamericanos….?'\n",
      "> Id: 241 | Año: 2022 | Título: '“Palestina libre”, Maslatón y El Tula: una tragicomedia argentina en 40 minutos' | Comentario: 'QUE VERGÜENZA  EL TULA. DECADENCIA PURA Y ENCIMA VA CON NUESTRO DINERO. MOSTRAMOS LO PEOR DE LO PEOR.'\n",
      "> Id: 4 | Año: 2021 | Título: 'Lacalle Pou marca posición en el mundo: más cerca de Israel; lejos de Cuba y Venezuela' | Comentario: 'más fascista y racista que el estado de Israel'\n",
      "> Id: 98 | Año: 2022 | Título: 'Biden visita a Abás y defiende que \"el pueblo palestino merece un Estado propio independiente\"' | Comentario: 'Gringo mentiroso. Un sionista más....'\n",
      "> Id: 279 | Año: 2024 | Título: 'ONU incluye por primera vez a Israel en lista de países que violan los derechos de niñ' | Comentario: 'IsraHell es un estado g3nocida que cada día se está quedando más solo.'\n",
      "> Id: 189 | Año: 2022 | Título: 'Al menos cinco niños palestinos y un adultos murieron por impacto de proyectil en Gaza' | Comentario: 'El tema es que se acusan de ambos lados pero la usurpación de territorios empezó y es responsabilidad del gobierno de Israel .Los palestinos viven ahí antes de que la tierra prometida ,fuera prometida !!'\n",
      "> Id: 118 | Año: 2023 | Título: 'Así fue el bombardeo a un hospital de Gaza que dejó a cientos de palestinos muertos' | Comentario: 'No confundan judaísmo con sionismo...no mastiquen esa carnada sionista...gran parte de las comunidades judías del mundo ESTÁN CONTRA ISRAEL y sus aberraciones. Y no sean tan hijoepouthas como para justificar el genocidio industrial nazi por las acciones de Israel...ni para usar ese genocidio industrial nazi contra los pueblos judíos de Europa...para justificar el lento y programado genocidio palestino. CUIDADO, CUIDADO, CUIDADO, CUIDADO.'\n",
      "> Id: 62 | Año: 2024 | Título: 'Coalición acusa al FA de irse de sala para no tratar antisemitismo en marcha; diputada de oposición' | Comentario: 'Quien fomenta el antisemitismo es Israel, y cada dia mas. Lo que esta haciendo en Gaza ha despertado la indignacion mundial. Ellos cansan con la victimizacion del holocausto, y no son el unico pueblo que sufrió una desgracia asi. Basta ver a todos los operadores judios victimizarse con el holocausto, en cualquier cosa, ya no sirve mas de excusa, y la libertad de expresion se respeta. En el 8 M si quisieron poner ese macaco, esta dentro de la libertad de expresion.'\n",
      "> Id: 94 | Año: 2021 | Título: 'Netanyahu advierte que Israel \"responderá con fuerza cada vez mayor\" a ataques desde Gaza' | Comentario: 'Todo un matón, la otra vez me enteré de algo que desconocía, un grupo de Judíos ultraortodoxos apoyan la causa palestina, rechazan el estado de Israel, lo consideran sionista, ondean la bandera palestina en sus sinagogas, van a marchas con los palestinos portando la bandera palestina, son amigos del régimen de Iran y eran amigos de Arafat, todo lo contrario a lo que uno imaginaría de un Judío ultraortodoxo.https://es.m.wikipedia.org/wiki/Neturei_Karta'\n",
      "> Id: 326 | Año: 2023 | Título: 'El problema político que envuelve al Mundial Sub 20 en Indonesia y la chance de Argentina de' | Comentario: 'Penal para Argentina!'\n",
      "> Id: 220 | Año: 2022 | Título: 'Opinión | Se cumplen 55 años de la guerra en la que Israel no se dejó destruir' | Comentario: 'Estaria bueno que MVD para hacerle contrapunto a esta progandista \"pro-sion\", que habilitara un articulo redactada por una periodista palestina...Digo, para conocer los dos lados de la moneda...'\n",
      "> Id: 115 | Año: 2023 | Título: 'Palestina advierte a Uruguay tras dichos del canciller israelí sobre oficina en Jerusalén' | Comentario: '¡¡Que gobierno chupaa pijha de miherda!! Gobierno lameqlos. Alcahuete de los judíos. Judíos de mhierda, asesinos, invasores, ocupas, genocidas. Y acá hay una cantidad de \"diplomáticos de carrera\", como el tal San Gato y todos los alcahuetes que lo aplauden. Por supuesto que un estado soberano no tiene que pedir permiso a nadie. Pasa que el tipejo este, al abrir esa oficina en Jerusalén, está tomando partido. Y el enano genuflexo tomó partido por el más fuerte, por el que todos le tienen miedo, por los genocidas invasores. Una verguenza.'\n",
      "> Id: 89 | Año: 2021 | Título: 'Biden valora intermediación de Egipto en alto al fuego en Gaza y dice que es una \"oportunidad' | Comentario: 'La estrategia de Biden de hacer todo en secreto no funciona a largo plazo. Por primera vez en la historia un senador introduce medidas en contra de Israel y en la cámara ya hay una bancada Pro-Palestina.'\n",
      "> Id: 128 | Año: 2021 | Título: 'Tragedia en Israel: Cuáles han sido las estampidas más letales de los últimos d' | Comentario: 'sionistas bastardos! ta bien si, todos los pecados se devuelven... fuerza Palestina!!!'\n",
      "> Id: 287 | Año: 2024 | Título: 'Maniquíes representan ataques de Hamás a mujeres judías en intervención en Plaza Trouville' | Comentario: 'Típico: los asesinos se victimizan'\n",
      "> Id: 130 | Año: 2021 | Título: 'A 27 años del atentado, la AMIA pidió que la causa tenga con “urgencia” un juez y cuestionó la “inop' | Comentario: 'Atentando en 1994 , los gobiernos de entonces no tuvieron ningun problema y ningun hallazgo, nada de nada. Los fliares de la Amia  usaron a sus seres queridos  fallecidos  para una ventaja politica.  Un asco'\n",
      "> Id: 87 | Año: 2023 | Título: 'Un ministro ultranacionalista de Israel fue a la Explanada de las Mezquitas y generó rechazo y amena' | Comentario: 'cuando a Israel le empiecen a llover drones iranies, se van a acordar de la ayuda que le  negaron a Ucrania'\n",
      "> Id: 70 | Año: 2023 | Título: 'Embajador Artzyeli aborda situación en Israel y lo desmarca del 18-O chileno: No hay metros destrui' | Comentario: 'En Israel no se han quemado Metros, pero los civiles palestinos asesinados por los gobiernos de Israel son decenas de miles.  Un alto oficial de Israel que se sintió asqueado por la brutalidad de la represión en contra de los palestinos dijo que “lamentablemente los que han sido víctimas de terribles persecuciones son capaces de cometer las mismas atrocidades cuando están en el poder”. --- https://ebiblioteca.org/lecturas/?/v/'\n",
      "> Id: 280 | Año: 2024 | Título: 'Trump insta a Israel a “terminar la guerra” en Gaza por la pérdida de apoyo en el mundo' | Comentario: 'De que guerra habla este sinverguenza????? Lo que hay es un genocídio llevado adelante por los judios.....despues preguntan porque no los quieren.'\n",
      "> Id: 125 | Año: 2021 | Título: 'Embajada de Israel obtiene galardón' | Comentario: 'Tenía rato de no ver al embajador Ofek; la última vez salió su foto durante su participación en la marcha de la diversidad 2018; lástima que se inviertan los impuestos de los ciudadanos israelíes en promover la ideología de género en países en desarrollo.'\n",
      "> Id: 224 | Año: 2022 | Título: 'Israel: Bennett asegura \"mantendrá su libertad de acción\" ante eventual acuerdo nuclear con Irá' | Comentario: 'Es facil aniquilar y cometer holocausto y genocidio con el pobre pueblo Palestino, Veamos como le va a israhell con Iran...'\n",
      "> Id: 156 | Año: 2023 | Título: 'Drexler: “Un espanto como el de Hamás no se soluciona con 5.500 niños palestinos muertos”' | Comentario: 'Ahora las agencias de publicidad uruguayas le van a hacer el boicot a Drexler por ejercer el derecho a libre expresión.'\n",
      "> Id: 158 | Año: 2021 | Título: 'Israel tira a la basura vacunas contra el coronavirus por un valor de 1.8 millones de dólares' | Comentario: '¿Qué nos hace falta para tirar a la b.......a este gobierno de corruptos asesinos ?'\n",
      "> Id: 273 | Año: 2023 | Título: 'Presidente de Palestina afirmó que Hitler masacró a los judíos por su \"usura\" y no por \"antisemitis' | Comentario: 'El sionismo controla la masonería, el sistema bancario corrupto, el narcotráfico, controla Hollywood, las mafias, la trata de personas y órganos, la farmacéuticas, la alimentación, la dialectica de la WWII, etc, etc... al fin se sacan los velos a la opinión pública'\n",
      "> Id: 238 | Año: 2021 | Título: 'Jerusalén, al límite: nuevos choques entre la policía y palestinos en un lugar sagrado elevan la ten' | Comentario: 'Acá el Mossad voló la AMIA, por suerte no tuvimos  victimas argentinas!!????????????'\n",
      "> Id: 146 | Año: 2022 | Título: 'Israel: primer ministro Netanyahu logra formar coalición de gobierno' | Comentario: 'Los neonazis seguiran en el poder en Israel . Obvio que con la ayuda de los EE.UU. .  Por lo tanto seguirá el genocidio palestino .'\n",
      "> Id: 117 | Año: 2023 | Título: 'El estrés de la guerra termina con un canal informal de retorno en Jerusalén y Gaza' | Comentario: 'Sionistas = asesinos genocidas'\n",
      "> Id: 99 | Año: 2022 | Título: 'Covid: un estudio hecho en Israel revela que la cuarta dosis de Pfizer quintuplica los anticuerpos' | Comentario: 'Que la funcionaria que en verano se viste con mangas largas y usa vestimenta negra, no sabe que el negro da más calor y en verano se usa ropa liviana y en lo posible sin mangas! Semejante ignorante se va a preocupar por vacunar con la cuarta dosis de Pfizer?'\n",
      "> Id: 54 | Año: 2024 | Título: 'Renunció el vicepresidente de la DAIA Sergio Pikholtz tras su polémica frase “no hay civiles inocent' | Comentario: 'solo un fanatico puede pensar asi'\n",
      "\n"
     ]
    }
   ],
   "source": [
    "casos = \"\"\n",
    "for i, row in X_vali.iterrows():\n",
    "    data = row.to_dict()\n",
    "    comentario = row['Comentario'].replace(\"\\n\", \" \").strip()\n",
    "    casos += f\"> Id: {i} | Año: {row['Año']} | Título: '{row['Título'].strip()}' | Comentario: '{comentario}'\\n\"\n",
    "\n",
    "print(casos)"
   ]
  },
  {
   "cell_type": "code",
   "execution_count": null,
   "id": "e77f22b3",
   "metadata": {},
   "outputs": [],
   "source": [
    "def calcula_iaa(prompt, llm):\n",
    "    \"\"\" \"\"\"\n",
    "    ids = []\n",
    "    clases = []\n",
    "\n",
    "    for line in open(f'resultados/{prompt}/{llm}.txt').readlines():\n",
    "        row = line.strip().split(\" \")\n",
    "        id = row[1]\n",
    "        clase = row[-1].replace(\"\\n\",'')\n",
    "\n",
    "        ids.append(int(id))\n",
    "        clases.append(clase)\n",
    "\n",
    "    preds = pd.DataFrame({\"id\": ids, 'Predicción': clases})   \n",
    "    preds = pl.from_pandas(preds)\n",
    "    y_vali = pd.DataFrame(Y_vali)\n",
    "    y_vali['id'] = Y_vali.index\n",
    "    y_vali = pl.from_pandas(y_vali)\n",
    "\n",
    "    preds_and_real = y_vali.join(preds, on='id')\n",
    "    kripp_matrix = preds_and_real.drop('id').to_pandas().values.astype(str).T\n",
    "    alpha = calcula_alpha_kripp(kripp_matrix)\n",
    "\n",
    "    return alpha"
   ]
  },
  {
   "cell_type": "code",
   "execution_count": null,
   "id": "68e8c48b",
   "metadata": {},
   "outputs": [],
   "source": [
    "def get_iaa_llm_table(prompt):\n",
    "    \"\"\" \"\"\"\n",
    "    df = pd.DataFrame({\n",
    "        'IAA_QWEN': [calcula_iaa(prompt=prompt, llm='qwen')],\n",
    "        'IAA_GEMINI_PRO': [calcula_iaa(prompt=prompt, llm='gemini_pro')],\n",
    "        'IAA_CLAUDE': [calcula_iaa(prompt=prompt, llm='claude')]\n",
    "    })\n",
    "    df = df.T\n",
    "    df.columns = ['Inter-Annotator Agreement']\n",
    "\n",
    "    return df"
   ]
  },
  {
   "cell_type": "markdown",
   "id": "b51ea864",
   "metadata": {},
   "source": [
    "## Few shot learning"
   ]
  },
  {
   "cell_type": "code",
   "execution_count": null,
   "id": "57979bb4",
   "metadata": {},
   "outputs": [],
   "source": [
    "train_ds = X_train.join(Y_train)\n",
    "\n",
    "def armar_prompt(contexto, pedido):\n",
    "    prompt = contexto\n",
    "    for _, row in train_ds[['Título', 'Comentario', 'Calificación']].iterrows():\n",
    "        data = row.to_dict()\n",
    "        prompt += f\"> Id: {row.index} | Título: '{row['Título'].strip()}' \\\n",
    "            | Comentario: '{row['Comentario'].strip()}' \\\n",
    "            | Calificación: '{row['Calificación'].strip()}'\\n\"\n",
    "    prompt = \"{pedido}\"\n",
    "    return prompt\n",
    "\n"
   ]
  }
 ],
 "metadata": {
  "kernelspec": {
   "display_name": "Python 3",
   "language": "python",
   "name": "python3"
  },
  "language_info": {
   "codemirror_mode": {
    "name": "ipython",
    "version": 3
   },
   "file_extension": ".py",
   "mimetype": "text/x-python",
   "name": "python",
   "nbconvert_exporter": "python",
   "pygments_lexer": "ipython3",
   "version": "3.9.20"
  }
 },
 "nbformat": 4,
 "nbformat_minor": 5
}
